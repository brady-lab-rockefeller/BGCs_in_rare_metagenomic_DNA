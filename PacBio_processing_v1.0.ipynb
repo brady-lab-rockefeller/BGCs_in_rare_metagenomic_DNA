{
 "cells": [
  {
   "cell_type": "code",
   "execution_count": 1,
   "metadata": {},
   "outputs": [],
   "source": [
    "import pandas as pd\n",
    "import os\n",
    "import re\n",
    "from Bio import SeqIO\n",
    "import subprocess \n",
    "import matplotlib.pyplot as plt\n",
    "import networkx as nx\n",
    "import numpy as np\n",
    "import seaborn as sns\n",
    "\n",
    "%matplotlib inline"
   ]
  },
  {
   "cell_type": "code",
   "execution_count": 79,
   "metadata": {},
   "outputs": [
    {
     "name": "stdout",
     "output_type": "stream",
     "text": [
      "minimap2 -a /nasdata/Neev/pacbio_data/VL/ecoli_pWEB_TNC2000bp.fasta /nasdata/Neev/pacbio_data/VL/m54158_190405_195049.subreads.fastq | samtools sort -@ 60 -o ALL.sorted.bam -\n"
     ]
    },
    {
     "data": {
      "text/plain": [
       "0"
      ]
     },
     "execution_count": 79,
     "metadata": {},
     "output_type": "execute_result"
    }
   ],
   "source": [
    "os.chdir('/nasdata/Neev/pacbio_data/VL/')\n",
    "pacbioData='/nasdata/Neev/pacbio_data/VL/m54158_190405_195049.subreads.fastq'\n",
    "vectorFa='/nasdata/Neev/pacbio_data/VL/ecoli_pWEB_TNC2000bp.fasta'\n",
    "#find vector in sequences\n",
    "cmd=\"minimap2 -a \"+vectorFa+\" \"+pacbioData+\" | samtools sort -@ 60 -o ALL.sorted.bam -\"\n",
    "print cmd\n",
    "subprocess.call(cmd, shell= True) \n",
    "subprocess.call([\"samtools view -@ 60 -b -F 4 ALL.sorted.bam > coli_vector_mapped.bam\"], shell= True)\n",
    "subprocess.call([\"samtools view -b -f 4 ALL.sorted.bam > unmapped.bam\"], shell= True)\n",
    "#contigs without vector are kept as is\n",
    "subprocess.call([\"samtools bam2fq unmapped.bam > unmapped.fastq\"], shell= True)\n",
    "\n",
    "#contigs with vector have their non-aligned (clipped) parts extracted\n",
    "subprocess.call([\"java -jar /home/vlibis/jvarkit/dist/samextractclip.jar --minsize 1000 -o /nasdata/Neev/pacbio_data/VL/soft_clipped.fq /nasdata/Neev/pacbio_data/VL/coli_vector_mapped.bam\"], shell= True)\n",
    "\n",
    "#merge contigs without vector and non-vector clipped parts from the other contigs\n",
    "subprocess.call([\"cat soft_clipped.fq unmapped.fastq > 2249_all_raw_reads_clipped_vector2000bp.fq\"], shell= True)\n"
   ]
  },
  {
   "cell_type": "code",
   "execution_count": null,
   "metadata": {},
   "outputs": [],
   "source": [
    "#run FLYE assembler\n",
    "cmd=\"flye --pacbio-raw /nasdata/Neev/pacbio_data/VL/2249_all_raw_reads_clipped_vector2000bp.fq --out-dir FLYE_2249_noColi_Vector2000bp --genome-size 200m --threads 60\"\n",
    "subprocess.call(cmd, shell= True) "
   ]
  },
  {
   "cell_type": "markdown",
   "metadata": {},
   "source": [
    "## clean large contigs from vector:"
   ]
  },
  {
   "cell_type": "code",
   "execution_count": 80,
   "metadata": {},
   "outputs": [
    {
     "name": "stdout",
     "output_type": "stream",
     "text": [
      "2314 valid contigs with both T7 and M13\n"
     ]
    }
   ],
   "source": [
    "#find T7 M13 and split contigs \n",
    "M13=['TCCCAGTCACGACGGATCCC','TCGCGGCCGCCAGGGTTT',\n",
    "       'AAACCCTGGCGGCCGCGA','GGGATCCGTCGTGACTGGGA']\n",
    "T7= ['GATCCTCTCCCTATAGTGAG','TCGTATTATGCGGCCGCGA',\n",
    "      'TCGCGGCCGCATAATACGA','CTCACTATAGGGAGAGGATC']\n",
    "with open('/nasdata/Neev/pacbio_data/VL/FLYE_2249_noColi_Vector2000bp/scaffolds.fasta', \"rU\") as input_handle:\n",
    "    with open('/nasdata/Neev/pacbio_data/VL/FLYE_2249_noColi_Vector2000bp/valid_scaffolds_edgesRemoved.fasta', \"w\") as output_handle:\n",
    "        counter=0\n",
    "        counterBothEdges=0\n",
    "        sequences = SeqIO.parse(input_handle, \"fasta\") \n",
    "        for record in sequences:\n",
    "  \n",
    "            if len(record.seq)>25000:\n",
    "                fragments=[str(record.seq)]\n",
    "                M13flag=False\n",
    "                T7flag=False\n",
    "                \n",
    "                for motif in M13:             \n",
    "                    for frag in fragments:\n",
    "                        offsprings=re.split(motif, frag)\n",
    "                        if len(offsprings)==2:            \n",
    "                            M13flag=True\n",
    "                            fragments.extend(offsprings)\n",
    "                            fragments.remove(frag)\n",
    "                for motif in T7:             \n",
    "                    for frag in fragments:\n",
    "                        offsprings=re.split(motif, frag)\n",
    "                        if len(offsprings)==2:            \n",
    "                            T7flag=True\n",
    "                            fragments.extend(offsprings)\n",
    "                            fragments.remove(frag)\n",
    "                \n",
    "                    \n",
    "                for idx,frag in enumerate(fragments):\n",
    "                    if len(frag)>25000 and len(frag)<55000 and T7flag and M13flag:\n",
    "                        counter+=1\n",
    "                        fragID=record.id+'_'+str(idx)\n",
    "                        output_handle.write(\">%s\\n%s\\n\" % (fragID,frag))\n",
    "                \n",
    "print str(counter) + ' valid contigs with both T7 and M13'\n"
   ]
  },
  {
   "cell_type": "code",
   "execution_count": 83,
   "metadata": {},
   "outputs": [
    {
     "name": "stdout",
     "output_type": "stream",
     "text": [
      "minimap2 -a /nasdata/Neev/pacbio_data/VL/pWEB_TNC_linear_noM13T7.fasta /nasdata/Neev/pacbio_data/VL/FLYE_2249_noColi_Vector2000bp/valid_scaffolds_edgesRemoved.fasta | samtools sort -@ 60 -o ALL.sorted.bam -\n"
     ]
    },
    {
     "data": {
      "text/plain": [
       "0"
      ]
     },
     "execution_count": 83,
     "metadata": {},
     "output_type": "execute_result"
    }
   ],
   "source": [
    "#double-check for leftover vector \n",
    "pacbioData='/nasdata/Neev/pacbio_data/VL/FLYE_2249_noColi_Vector2000bp/valid_scaffolds_edgesRemoved.fasta'\n",
    "vectorFa='/nasdata/Neev/pacbio_data/VL/pWEB_TNC_linear_noM13T7.fasta'\n",
    "cmd=\"minimap2 -a \"+vectorFa+\" \"+pacbioData+\" | samtools sort -@ 60 -o ALL.sorted.bam -\"\n",
    "print cmd\n",
    "subprocess.call(cmd, shell= True) \n",
    "subprocess.call([\"samtools view -b -f 4 ALL.sorted.bam > unmapped.bam\"], shell= True)\n",
    "subprocess.call([\"samtools fasta unmapped.bam > 2249_valid_scaffolds_NOvector.fasta\"], shell= True)"
   ]
  }
 ],
 "metadata": {
  "kernelspec": {
   "display_name": "Python 2",
   "language": "python",
   "name": "python2"
  },
  "language_info": {
   "codemirror_mode": {
    "name": "ipython",
    "version": 2
   },
   "file_extension": ".py",
   "mimetype": "text/x-python",
   "name": "python",
   "nbconvert_exporter": "python",
   "pygments_lexer": "ipython2",
   "version": "2.7.15"
  }
 },
 "nbformat": 4,
 "nbformat_minor": 2
}
